{
 "cells": [
  {
   "cell_type": "code",
   "execution_count": 1,
   "metadata": {},
   "outputs": [],
   "source": [
    "import numpy as np"
   ]
  },
  {
   "cell_type": "code",
   "execution_count": 2,
   "metadata": {},
   "outputs": [],
   "source": [
    "line = [(1,1,1,1),\n",
    "       (2,2,2,2),\n",
    "       (3,3,3,3),\n",
    "       (4,4,4,4),\n",
    "       (5,5,5,5)]"
   ]
  },
  {
   "cell_type": "code",
   "execution_count": 6,
   "metadata": {},
   "outputs": [
    {
     "data": {
      "text/plain": [
       "array([[1, 1, 1, 1],\n",
       "       [2, 2, 2, 2],\n",
       "       [3, 3, 3, 3],\n",
       "       [4, 4, 4, 4],\n",
       "       [5, 5, 5, 5]])"
      ]
     },
     "execution_count": 6,
     "metadata": {},
     "output_type": "execute_result"
    }
   ],
   "source": [
    "np_line = np.array(line)\n",
    "np_line"
   ]
  },
  {
   "cell_type": "code",
   "execution_count": 8,
   "metadata": {},
   "outputs": [
    {
     "data": {
      "text/plain": [
       "array([3., 3., 3., 3.])"
      ]
     },
     "execution_count": 8,
     "metadata": {},
     "output_type": "execute_result"
    }
   ],
   "source": [
    "np.sum(np_line, axis=0)/np_line.shape[0]"
   ]
  },
  {
   "cell_type": "code",
   "execution_count": 9,
   "metadata": {},
   "outputs": [
    {
     "data": {
      "text/plain": [
       "3.0"
      ]
     },
     "execution_count": 9,
     "metadata": {},
     "output_type": "execute_result"
    }
   ],
   "source": [
    "np.mean(line)"
   ]
  },
  {
   "cell_type": "code",
   "execution_count": 49,
   "metadata": {},
   "outputs": [],
   "source": [
    "left_lane = [[549,357,561,362],\n",
    "[626,399,658,417],\n",
    "[614,398,648,418],\n",
    "[640,413,651,419]]"
   ]
  },
  {
   "cell_type": "code",
   "execution_count": 50,
   "metadata": {},
   "outputs": [],
   "source": [
    "right_lane = [[0,335,11,335],\n",
    "[132,331,156,331],\n",
    "[155,327,165,327],\n",
    "[641,324,653,324],\n",
    "[847,348,864,348],\n",
    "[605,393,647,418],\n",
    "[943,411,959,414],\n",
    "[892,328,924,328],\n",
    "[692,339,703,340],\n",
    "[617,394,648,411],\n",
    "[947,344,959,344],\n",
    "[506,314,518,315],\n",
    "[804,351,814,352],\n",
    "[892,314,918,314],\n",
    "[901,402,920,406],\n",
    "[841,326,862,326],\n",
    "[747,333,757,333],\n",
    "[947,408,958,410],\n",
    "[674,326,684,327],\n",
    "[787,336,799,336],\n",
    "[487,322,505,330],\n",
    "[711,359,724,361],\n",
    "[0,188,18,196],\n",
    "[580,320,592,320],\n",
    "[865,349,893,349],\n",
    "[549,318,559,318],\n",
    "[898,340,908,340],\n",
    "[852,344,863,345],\n",
    "[813,355,824,356],\n",
    "[851,316,861,316],\n",
    "[886,298,898,298],\n",
    "[698,337,711,338],\n",
    "[905,295,919,295],\n",
    "[870,310,880,310],\n",
    "[784,349,794,349],\n",
    "[501,318,515,319],\n",
    "[551,354,563,361],\n",
    "[695,359,710,362],\n",
    "[906,298,918,299],\n",
    "[848,338,859,339],\n",
    "[889,346,900,346],\n",
    "[630,402,640,407],\n",
    "[593,321,607,321]]"
   ]
  },
  {
   "cell_type": "code",
   "execution_count": 51,
   "metadata": {},
   "outputs": [],
   "source": [
    "lines = np.array(left_lane)\n",
    "# lines = np.array(right_lane)"
   ]
  },
  {
   "cell_type": "code",
   "execution_count": 52,
   "metadata": {},
   "outputs": [
    {
     "data": {
      "text/plain": [
       "<matplotlib.collections.PathCollection at 0x11c525588>"
      ]
     },
     "execution_count": 52,
     "metadata": {},
     "output_type": "execute_result"
    },
    {
     "data": {
      "image/png": "[encoded data removed]",
      "text/plain": [
       "<Figure size 432x288 with 1 Axes>"
      ]
     },
     "metadata": {
      "needs_background": "light"
     },
     "output_type": "display_data"
    }
   ],
   "source": [
    "import matplotlib.pyplot as plt\n",
    "plt.scatter(lines[:,0],lines[:,1])\n"
   ]
  },
  {
   "cell_type": "code",
   "execution_count": 39,
   "metadata": {},
   "outputs": [
    {
     "data": {
      "text/plain": [
       "<matplotlib.collections.PathCollection at 0x11c3d7e80>"
      ]
     },
     "execution_count": 39,
     "metadata": {},
     "output_type": "execute_result"
    },
    {
     "data": {
      "image/png": "[encoded data removed]",
      "text/plain": [
       "<Figure size 432x288 with 1 Axes>"
      ]
     },
     "metadata": {
      "needs_background": "light"
     },
     "output_type": "display_data"
    }
   ],
   "source": [
    "plt.scatter(lines[:,2],lines[:,3])"
   ]
  },
  {
   "cell_type": "code",
   "execution_count": 44,
   "metadata": {},
   "outputs": [
    {
     "name": "stdout",
     "output_type": "stream",
     "text": [
      "0\n",
      "test\n",
      "1\n",
      "test\n",
      "2\n",
      "test\n",
      "3\n",
      "test\n",
      "4\n",
      "test\n",
      "5\n",
      "6\n",
      "test\n",
      "7\n",
      "test\n",
      "8\n",
      "test\n",
      "9\n",
      "test\n"
     ]
    }
   ],
   "source": [
    "\n",
    "for i in range(10):\n",
    "    print(i)\n",
    "    if(i == 5):\n",
    "        continue\n",
    "    print(\"test\")"
   ]
  },
  {
   "cell_type": "code",
   "execution_count": null,
   "metadata": {},
   "outputs": [],
   "source": []
  }
 ],
 "metadata": {
  "kernelspec": {
   "display_name": "Python 3",
   "language": "python",
   "name": "python3"
  },
  "language_info": {
   "codemirror_mode": {
    "name": "ipython",
    "version": 3
   },
   "file_extension": ".py",
   "mimetype": "text/x-python",
   "name": "python",
   "nbconvert_exporter": "python",
   "pygments_lexer": "ipython3",
   "version": "3.7.3"
  }
 },
 "nbformat": 4,
 "nbformat_minor": 4
}
